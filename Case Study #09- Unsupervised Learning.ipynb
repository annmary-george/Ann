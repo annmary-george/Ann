{
 "cells": [
  {
   "cell_type": "markdown",
   "id": "fcd4f33d",
   "metadata": {},
   "source": [
    "## Case study on Unsupervised Machine Learning"
   ]
  },
  {
   "cell_type": "markdown",
   "id": "349e4cdd",
   "metadata": {},
   "source": [
    "#### Do the following in the wine dataset.  \n",
    "* Read the dataset to the python environment.\n",
    "* Try out different clustering models in the wine dataset.\n",
    "* Find the optimum number of clusters in each model and create the model with the optimum number of clusters."
   ]
  },
  {
   "cell_type": "code",
   "execution_count": 1,
   "id": "d1517966",
   "metadata": {},
   "outputs": [],
   "source": [
    "#import libraries required for analysis\n",
    "import pandas as pd\n",
    "import numpy as np\n",
    "import matplotlib.pyplot as plt\n",
    "import seaborn as sns\n",
    "import warnings\n",
    "warnings.filterwarnings('ignore')"
   ]
  },
  {
   "cell_type": "markdown",
   "id": "c3d2d96a",
   "metadata": {},
   "source": [
    "### 1. Read the dataset to the python environment."
   ]
  },
  {
   "cell_type": "code",
   "execution_count": 2,
   "id": "c592e53a",
   "metadata": {},
   "outputs": [
    {
     "data": {
      "text/html": [
       "<div>\n",
       "<style scoped>\n",
       "    .dataframe tbody tr th:only-of-type {\n",
       "        vertical-align: middle;\n",
       "    }\n",
       "\n",
       "    .dataframe tbody tr th {\n",
       "        vertical-align: top;\n",
       "    }\n",
       "\n",
       "    .dataframe thead th {\n",
       "        text-align: right;\n",
       "    }\n",
       "</style>\n",
       "<table border=\"1\" class=\"dataframe\">\n",
       "  <thead>\n",
       "    <tr style=\"text-align: right;\">\n",
       "      <th></th>\n",
       "      <th>Alcohol</th>\n",
       "      <th>Malic_Acid</th>\n",
       "      <th>Ash</th>\n",
       "      <th>Ash_Alcanity</th>\n",
       "      <th>Magnesium</th>\n",
       "      <th>Total_Phenols</th>\n",
       "      <th>Flavanoids</th>\n",
       "      <th>Nonflavanoid_Phenols</th>\n",
       "      <th>Proanthocyanins</th>\n",
       "      <th>Color_Intensity</th>\n",
       "      <th>Hue</th>\n",
       "      <th>OD280</th>\n",
       "      <th>Proline</th>\n",
       "    </tr>\n",
       "  </thead>\n",
       "  <tbody>\n",
       "    <tr>\n",
       "      <th>0</th>\n",
       "      <td>14.23</td>\n",
       "      <td>1.71</td>\n",
       "      <td>2.43</td>\n",
       "      <td>15.6</td>\n",
       "      <td>127</td>\n",
       "      <td>2.80</td>\n",
       "      <td>3.06</td>\n",
       "      <td>0.28</td>\n",
       "      <td>2.29</td>\n",
       "      <td>5.64</td>\n",
       "      <td>1.04</td>\n",
       "      <td>3.92</td>\n",
       "      <td>1065</td>\n",
       "    </tr>\n",
       "    <tr>\n",
       "      <th>1</th>\n",
       "      <td>13.20</td>\n",
       "      <td>1.78</td>\n",
       "      <td>2.14</td>\n",
       "      <td>11.2</td>\n",
       "      <td>100</td>\n",
       "      <td>2.65</td>\n",
       "      <td>2.76</td>\n",
       "      <td>0.26</td>\n",
       "      <td>1.28</td>\n",
       "      <td>4.38</td>\n",
       "      <td>1.05</td>\n",
       "      <td>3.40</td>\n",
       "      <td>1050</td>\n",
       "    </tr>\n",
       "    <tr>\n",
       "      <th>2</th>\n",
       "      <td>13.16</td>\n",
       "      <td>2.36</td>\n",
       "      <td>2.67</td>\n",
       "      <td>18.6</td>\n",
       "      <td>101</td>\n",
       "      <td>2.80</td>\n",
       "      <td>3.24</td>\n",
       "      <td>0.30</td>\n",
       "      <td>2.81</td>\n",
       "      <td>5.68</td>\n",
       "      <td>1.03</td>\n",
       "      <td>3.17</td>\n",
       "      <td>1185</td>\n",
       "    </tr>\n",
       "    <tr>\n",
       "      <th>3</th>\n",
       "      <td>14.37</td>\n",
       "      <td>1.95</td>\n",
       "      <td>2.50</td>\n",
       "      <td>16.8</td>\n",
       "      <td>113</td>\n",
       "      <td>3.85</td>\n",
       "      <td>3.49</td>\n",
       "      <td>0.24</td>\n",
       "      <td>2.18</td>\n",
       "      <td>7.80</td>\n",
       "      <td>0.86</td>\n",
       "      <td>3.45</td>\n",
       "      <td>1480</td>\n",
       "    </tr>\n",
       "    <tr>\n",
       "      <th>4</th>\n",
       "      <td>13.24</td>\n",
       "      <td>2.59</td>\n",
       "      <td>2.87</td>\n",
       "      <td>21.0</td>\n",
       "      <td>118</td>\n",
       "      <td>2.80</td>\n",
       "      <td>2.69</td>\n",
       "      <td>0.39</td>\n",
       "      <td>1.82</td>\n",
       "      <td>4.32</td>\n",
       "      <td>1.04</td>\n",
       "      <td>2.93</td>\n",
       "      <td>735</td>\n",
       "    </tr>\n",
       "  </tbody>\n",
       "</table>\n",
       "</div>"
      ],
      "text/plain": [
       "   Alcohol  Malic_Acid   Ash  Ash_Alcanity  Magnesium  Total_Phenols  \\\n",
       "0    14.23        1.71  2.43          15.6        127           2.80   \n",
       "1    13.20        1.78  2.14          11.2        100           2.65   \n",
       "2    13.16        2.36  2.67          18.6        101           2.80   \n",
       "3    14.37        1.95  2.50          16.8        113           3.85   \n",
       "4    13.24        2.59  2.87          21.0        118           2.80   \n",
       "\n",
       "   Flavanoids  Nonflavanoid_Phenols  Proanthocyanins  Color_Intensity   Hue  \\\n",
       "0        3.06                  0.28             2.29             5.64  1.04   \n",
       "1        2.76                  0.26             1.28             4.38  1.05   \n",
       "2        3.24                  0.30             2.81             5.68  1.03   \n",
       "3        3.49                  0.24             2.18             7.80  0.86   \n",
       "4        2.69                  0.39             1.82             4.32  1.04   \n",
       "\n",
       "   OD280  Proline  \n",
       "0   3.92     1065  \n",
       "1   3.40     1050  \n",
       "2   3.17     1185  \n",
       "3   3.45     1480  \n",
       "4   2.93      735  "
      ]
     },
     "execution_count": 2,
     "metadata": {},
     "output_type": "execute_result"
    }
   ],
   "source": [
    "#Importing dataset\n",
    "data = pd.read_csv('Wine.csv')\n",
    "data.head()"
   ]
  },
  {
   "cell_type": "code",
   "execution_count": 3,
   "id": "7a307e2f",
   "metadata": {},
   "outputs": [
    {
     "data": {
      "text/plain": [
       "Index(['Alcohol', 'Malic_Acid', 'Ash', 'Ash_Alcanity', 'Magnesium',\n",
       "       'Total_Phenols', 'Flavanoids', 'Nonflavanoid_Phenols',\n",
       "       'Proanthocyanins', 'Color_Intensity', 'Hue', 'OD280', 'Proline'],\n",
       "      dtype='object')"
      ]
     },
     "execution_count": 3,
     "metadata": {},
     "output_type": "execute_result"
    }
   ],
   "source": [
    "#features of dataset\n",
    "data.columns"
   ]
  },
  {
   "cell_type": "code",
   "execution_count": 4,
   "id": "2b4bc52e",
   "metadata": {},
   "outputs": [
    {
     "data": {
      "text/plain": [
       "(178, 13)"
      ]
     },
     "execution_count": 4,
     "metadata": {},
     "output_type": "execute_result"
    }
   ],
   "source": [
    "#shape of dataset\n",
    "data.shape"
   ]
  },
  {
   "cell_type": "code",
   "execution_count": 5,
   "id": "3871a6bd",
   "metadata": {},
   "outputs": [
    {
     "name": "stdout",
     "output_type": "stream",
     "text": [
      "<class 'pandas.core.frame.DataFrame'>\n",
      "RangeIndex: 178 entries, 0 to 177\n",
      "Data columns (total 13 columns):\n",
      " #   Column                Non-Null Count  Dtype  \n",
      "---  ------                --------------  -----  \n",
      " 0   Alcohol               178 non-null    float64\n",
      " 1   Malic_Acid            178 non-null    float64\n",
      " 2   Ash                   178 non-null    float64\n",
      " 3   Ash_Alcanity          178 non-null    float64\n",
      " 4   Magnesium             178 non-null    int64  \n",
      " 5   Total_Phenols         178 non-null    float64\n",
      " 6   Flavanoids            178 non-null    float64\n",
      " 7   Nonflavanoid_Phenols  178 non-null    float64\n",
      " 8   Proanthocyanins       178 non-null    float64\n",
      " 9   Color_Intensity       178 non-null    float64\n",
      " 10  Hue                   178 non-null    float64\n",
      " 11  OD280                 178 non-null    float64\n",
      " 12  Proline               178 non-null    int64  \n",
      "dtypes: float64(11), int64(2)\n",
      "memory usage: 18.2 KB\n"
     ]
    }
   ],
   "source": [
    "data.info()"
   ]
  },
  {
   "cell_type": "markdown",
   "id": "bb29efb7",
   "metadata": {},
   "source": [
    "#### Insights:- \n",
    "* It has 178 wine samples with 13 features."
   ]
  },
  {
   "cell_type": "markdown",
   "id": "cffc3b5e",
   "metadata": {},
   "source": [
    "### 2. Try out different clustering models in the wine dataset."
   ]
  },
  {
   "cell_type": "markdown",
   "id": "0f81eec8",
   "metadata": {},
   "source": [
    "#### Exploratory Data Analysis & Data visualization:"
   ]
  },
  {
   "cell_type": "code",
   "execution_count": 6,
   "id": "762ecd28",
   "metadata": {},
   "outputs": [
    {
     "data": {
      "text/plain": [
       "<AxesSubplot:>"
      ]
     },
     "execution_count": 6,
     "metadata": {},
     "output_type": "execute_result"
    },
    {
     "data": {
      "image/png": "[encoded data removed]",
      "text/plain": [
       "<Figure size 1008x864 with 2 Axes>"
      ]
     },
     "metadata": {
      "needs_background": "light"
     },
     "output_type": "display_data"
    }
   ],
   "source": [
    "#plotting heatmap\n",
    "plt.figure(figsize=[14,12])\n",
    "sns.heatmap(data.corr(), annot=True, linewidths=2, square=True)"
   ]
  },
  {
   "cell_type": "markdown",
   "id": "bb164952",
   "metadata": {},
   "source": [
    "#####  Features flavanoids & OD280 are highly correlated and one of these features may be dropped."
   ]
  },
  {
   "cell_type": "markdown",
   "id": "12273e50",
   "metadata": {},
   "source": [
    "* From the above heatmap, we can see that there are some variables having very high correlation with repect to postive and negative. We will use PCA to overcome this multicollinearity. "
   ]
  },
  {
   "cell_type": "markdown",
   "id": "c0f3b9ca",
   "metadata": {},
   "source": [
    "### Clustering Methods"
   ]
  },
  {
   "cell_type": "markdown",
   "id": "f8349233",
   "metadata": {},
   "source": [
    "#### K-Means Clustering:"
   ]
  },
  {
   "cell_type": "code",
   "execution_count": 7,
   "id": "232979dc",
   "metadata": {},
   "outputs": [
    {
     "data": {
      "text/html": [
       "<div>\n",
       "<style scoped>\n",
       "    .dataframe tbody tr th:only-of-type {\n",
       "        vertical-align: middle;\n",
       "    }\n",
       "\n",
       "    .dataframe tbody tr th {\n",
       "        vertical-align: top;\n",
       "    }\n",
       "\n",
       "    .dataframe thead th {\n",
       "        text-align: right;\n",
       "    }\n",
       "</style>\n",
       "<table border=\"1\" class=\"dataframe\">\n",
       "  <thead>\n",
       "    <tr style=\"text-align: right;\">\n",
       "      <th></th>\n",
       "      <th>Alcohol</th>\n",
       "      <th>Malic_Acid</th>\n",
       "      <th>Ash</th>\n",
       "      <th>Ash_Alcanity</th>\n",
       "      <th>Magnesium</th>\n",
       "      <th>Total_Phenols</th>\n",
       "      <th>Flavanoids</th>\n",
       "      <th>Nonflavanoid_Phenols</th>\n",
       "      <th>Proanthocyanins</th>\n",
       "      <th>Color_Intensity</th>\n",
       "      <th>Hue</th>\n",
       "      <th>OD280</th>\n",
       "      <th>Proline</th>\n",
       "    </tr>\n",
       "  </thead>\n",
       "  <tbody>\n",
       "    <tr>\n",
       "      <th>0</th>\n",
       "      <td>14.23</td>\n",
       "      <td>1.71</td>\n",
       "      <td>2.43</td>\n",
       "      <td>15.6</td>\n",
       "      <td>127</td>\n",
       "      <td>2.80</td>\n",
       "      <td>3.06</td>\n",
       "      <td>0.28</td>\n",
       "      <td>2.29</td>\n",
       "      <td>5.64</td>\n",
       "      <td>1.04</td>\n",
       "      <td>3.92</td>\n",
       "      <td>1065</td>\n",
       "    </tr>\n",
       "    <tr>\n",
       "      <th>1</th>\n",
       "      <td>13.20</td>\n",
       "      <td>1.78</td>\n",
       "      <td>2.14</td>\n",
       "      <td>11.2</td>\n",
       "      <td>100</td>\n",
       "      <td>2.65</td>\n",
       "      <td>2.76</td>\n",
       "      <td>0.26</td>\n",
       "      <td>1.28</td>\n",
       "      <td>4.38</td>\n",
       "      <td>1.05</td>\n",
       "      <td>3.40</td>\n",
       "      <td>1050</td>\n",
       "    </tr>\n",
       "    <tr>\n",
       "      <th>2</th>\n",
       "      <td>13.16</td>\n",
       "      <td>2.36</td>\n",
       "      <td>2.67</td>\n",
       "      <td>18.6</td>\n",
       "      <td>101</td>\n",
       "      <td>2.80</td>\n",
       "      <td>3.24</td>\n",
       "      <td>0.30</td>\n",
       "      <td>2.81</td>\n",
       "      <td>5.68</td>\n",
       "      <td>1.03</td>\n",
       "      <td>3.17</td>\n",
       "      <td>1185</td>\n",
       "    </tr>\n",
       "    <tr>\n",
       "      <th>3</th>\n",
       "      <td>14.37</td>\n",
       "      <td>1.95</td>\n",
       "      <td>2.50</td>\n",
       "      <td>16.8</td>\n",
       "      <td>113</td>\n",
       "      <td>3.85</td>\n",
       "      <td>3.49</td>\n",
       "      <td>0.24</td>\n",
       "      <td>2.18</td>\n",
       "      <td>7.80</td>\n",
       "      <td>0.86</td>\n",
       "      <td>3.45</td>\n",
       "      <td>1480</td>\n",
       "    </tr>\n",
       "    <tr>\n",
       "      <th>4</th>\n",
       "      <td>13.24</td>\n",
       "      <td>2.59</td>\n",
       "      <td>2.87</td>\n",
       "      <td>21.0</td>\n",
       "      <td>118</td>\n",
       "      <td>2.80</td>\n",
       "      <td>2.69</td>\n",
       "      <td>0.39</td>\n",
       "      <td>1.82</td>\n",
       "      <td>4.32</td>\n",
       "      <td>1.04</td>\n",
       "      <td>2.93</td>\n",
       "      <td>735</td>\n",
       "    </tr>\n",
       "  </tbody>\n",
       "</table>\n",
       "</div>"
      ],
      "text/plain": [
       "   Alcohol  Malic_Acid   Ash  Ash_Alcanity  Magnesium  Total_Phenols  \\\n",
       "0    14.23        1.71  2.43          15.6        127           2.80   \n",
       "1    13.20        1.78  2.14          11.2        100           2.65   \n",
       "2    13.16        2.36  2.67          18.6        101           2.80   \n",
       "3    14.37        1.95  2.50          16.8        113           3.85   \n",
       "4    13.24        2.59  2.87          21.0        118           2.80   \n",
       "\n",
       "   Flavanoids  Nonflavanoid_Phenols  Proanthocyanins  Color_Intensity   Hue  \\\n",
       "0        3.06                  0.28             2.29             5.64  1.04   \n",
       "1        2.76                  0.26             1.28             4.38  1.05   \n",
       "2        3.24                  0.30             2.81             5.68  1.03   \n",
       "3        3.49                  0.24             2.18             7.80  0.86   \n",
       "4        2.69                  0.39             1.82             4.32  1.04   \n",
       "\n",
       "   OD280  Proline  \n",
       "0   3.92     1065  \n",
       "1   3.40     1050  \n",
       "2   3.17     1185  \n",
       "3   3.45     1480  \n",
       "4   2.93      735  "
      ]
     },
     "execution_count": 7,
     "metadata": {},
     "output_type": "execute_result"
    }
   ],
   "source": [
    "#Making a copy of DataFrame index & data\n",
    "df = data.copy(deep=True)\n",
    "df.head()"
   ]
  },
  {
   "cell_type": "code",
   "execution_count": 8,
   "id": "a98b4306",
   "metadata": {},
   "outputs": [
    {
     "name": "stdout",
     "output_type": "stream",
     "text": [
      "[4 4 4 0 2 0 0 0 4 4 0 0 0 4 0 0 0 4 0 2 2 2 4 4 2 2 4 0 2 4 0 0 4 0 4 2 2\n",
      " 4 4 2 2 4 4 1 2 4 4 4 4 0 4 0 4 0 4 4 4 0 0 3 1 3 1 3 3 1 3 3 2 1 2 3 3 4\n",
      " 2 3 3 3 2 3 3 1 1 3 3 3 3 1 1 1 3 3 3 3 3 2 1 3 1 3 1 1 3 3 1 3 3 3 3 1 1\n",
      " 3 1 3 3 3 3 3 3 1 1 3 3 3 3 3 3 3 3 1 1 3 1 1 1 1 1 3 1 1 1 2 3 1 2 2 3 1\n",
      " 1 1 3 3 3 1 1 1 3 2 1 1 3 1 1 1 1 3 1 1 2 1 3 3 1 2 2 2 2 1]\n"
     ]
    }
   ],
   "source": [
    "#Let no of clusters = 5(random selection) \n",
    "from sklearn.cluster import KMeans\n",
    "model_kmeans = KMeans(n_clusters = 5)\n",
    "model_kmeans.fit(df)\n",
    "labels = model_kmeans.predict(df)\n",
    "print(labels)"
   ]
  },
  {
   "cell_type": "code",
   "execution_count": 9,
   "id": "e8cf1c06",
   "metadata": {},
   "outputs": [
    {
     "data": {
      "text/plain": [
       "916379.1871539167"
      ]
     },
     "execution_count": 9,
     "metadata": {},
     "output_type": "execute_result"
    }
   ],
   "source": [
    "#checking inertia value for k=5\n",
    "model_kmeans.inertia_"
   ]
  },
  {
   "cell_type": "markdown",
   "id": "ab1d08a4",
   "metadata": {},
   "source": [
    "#### Elbow method to find no.of optimal clusters"
   ]
  },
  {
   "cell_type": "code",
   "execution_count": 10,
   "id": "a8fd6b52",
   "metadata": {},
   "outputs": [],
   "source": [
    "#Elbow method\n",
    "ks = range(1,10)\n",
    "inertia=[]\n",
    "for k in ks:\n",
    "    model_kmeans=KMeans(n_clusters = k, init='k-means++', max_iter=300, n_init=10, random_state=40)\n",
    "    model_kmeans.fit(df)\n",
    "    inertia.append(model_kmeans.inertia_)"
   ]
  },
  {
   "cell_type": "code",
   "execution_count": 11,
   "id": "9108c5ab",
   "metadata": {},
   "outputs": [
    {
     "data": {
      "image/png": "[encoded data removed]",
      "text/plain": [
       "<Figure size 432x288 with 1 Axes>"
      ]
     },
     "metadata": {
      "needs_background": "light"
     },
     "output_type": "display_data"
    }
   ],
   "source": [
    "#plotting inertia values for different no of clusters\n",
    "plt.plot(ks,inertia, '-o')\n",
    "plt.title('Elbow Method')\n",
    "plt.xlabel('No of clusters')\n",
    "plt.ylabel('Inertia')\n",
    "plt.show()"
   ]
  },
  {
   "cell_type": "markdown",
   "id": "fe471361",
   "metadata": {},
   "source": [
    "#### No. of clusters can be selected as 3"
   ]
  },
  {
   "cell_type": "code",
   "execution_count": 12,
   "id": "36811140",
   "metadata": {},
   "outputs": [
    {
     "name": "stdout",
     "output_type": "stream",
     "text": [
      "[1 1 1 1 0 1 1 1 1 1 1 1 1 1 1 1 1 1 1 0 0 0 1 1 0 0 1 1 0 1 1 1 1 1 1 0 0\n",
      " 1 1 0 0 1 1 0 0 1 1 1 1 1 1 1 1 1 1 1 1 1 1 2 0 2 0 2 2 0 2 2 0 0 0 2 2 1\n",
      " 0 2 2 2 0 2 2 0 0 2 2 2 2 2 0 0 2 2 2 2 2 0 0 2 0 2 0 2 2 2 0 2 2 2 2 0 2\n",
      " 2 0 2 2 2 2 2 2 2 0 2 2 2 2 2 2 2 2 2 0 2 2 0 0 0 0 2 2 2 0 0 2 2 0 0 2 0\n",
      " 0 2 2 2 2 0 0 0 2 0 0 0 2 0 2 0 0 2 0 0 0 0 2 2 0 0 0 0 0 2]\n"
     ]
    }
   ],
   "source": [
    "#K_Means Clustering with no. of clusters = 3\n",
    "model_kmeans = KMeans(n_clusters = 3)\n",
    "model_kmeans.fit(df)\n",
    "labels = model_kmeans.predict(df)\n",
    "print(labels)"
   ]
  },
  {
   "cell_type": "code",
   "execution_count": 13,
   "id": "f16e324c",
   "metadata": {},
   "outputs": [],
   "source": [
    "#Adding labels column to DataFrame\n",
    "data_df = df.copy(deep=True)\n",
    "data_df['labels'] = labels"
   ]
  },
  {
   "cell_type": "code",
   "execution_count": 14,
   "id": "5b5ffd18",
   "metadata": {},
   "outputs": [
    {
     "name": "stdout",
     "output_type": "stream",
     "text": [
      "Classification Labels:  [0 1 2]\n"
     ]
    }
   ],
   "source": [
    "print('Classification Labels: ',np.unique(data_df['labels']))"
   ]
  },
  {
   "cell_type": "code",
   "execution_count": 15,
   "id": "6f04ee35",
   "metadata": {},
   "outputs": [
    {
     "name": "stderr",
     "output_type": "stream",
     "text": [
      "No handles with labels found to put in legend.\n"
     ]
    },
    {
     "data": {
      "image/png": "[encoded data removed]",
      "text/plain": [
       "<Figure size 432x288 with 1 Axes>"
      ]
     },
     "metadata": {
      "needs_background": "light"
     },
     "output_type": "display_data"
    }
   ],
   "source": [
    "#checking the variation of feature 'proline' with each cluster\n",
    "plt.scatter(data_df['labels'], data_df['Proline'], color = 'grey')\n",
    "plt.title('Proline Cluster Classification - KMeans')\n",
    "plt.xlabel('K-Cluster')\n",
    "plt.ylabel('Proline')\n",
    "plt.legend()\n",
    "plt.show();"
   ]
  },
  {
   "cell_type": "code",
   "execution_count": 16,
   "id": "5943f001",
   "metadata": {},
   "outputs": [
    {
     "data": {
      "text/plain": [
       "<matplotlib.collections.PathCollection at 0x1d5823af6d0>"
      ]
     },
     "execution_count": 16,
     "metadata": {},
     "output_type": "execute_result"
    },
    {
     "data": {
      "image/png": "[encoded data removed]",
      "text/plain": [
       "<Figure size 432x288 with 1 Axes>"
      ]
     },
     "metadata": {
      "needs_background": "light"
     },
     "output_type": "display_data"
    }
   ],
   "source": [
    "#scatterplot of Proline Vs Alcohol\n",
    "pr = data_df['Proline']\n",
    "alc = data_df['Alcohol']\n",
    "plt.title('Proline vs Alcohol')\n",
    "plt.scatter(pr, alc, c=labels)"
   ]
  },
  {
   "cell_type": "markdown",
   "id": "cade5d8e",
   "metadata": {},
   "source": [
    "##### 3 distinct cluster divisions of Alcohol & Proline"
   ]
  },
  {
   "cell_type": "code",
   "execution_count": 17,
   "id": "c1d1041f",
   "metadata": {},
   "outputs": [
    {
     "data": {
      "text/plain": [
       "2370689.6867829696"
      ]
     },
     "execution_count": 17,
     "metadata": {},
     "output_type": "execute_result"
    }
   ],
   "source": [
    "#checking inertia value for k=3\n",
    "model_kmeans.inertia_"
   ]
  },
  {
   "cell_type": "markdown",
   "id": "b18ffb14",
   "metadata": {},
   "source": [
    "##### Inertia value is very high. Need to perform feature scaling."
   ]
  },
  {
   "cell_type": "markdown",
   "id": "90aa03e3",
   "metadata": {},
   "source": [
    "#### Feature Scaling:"
   ]
  },
  {
   "cell_type": "code",
   "execution_count": 18,
   "id": "4fda28cb",
   "metadata": {},
   "outputs": [
    {
     "name": "stdout",
     "output_type": "stream",
     "text": [
      "[1 1 1 1 1 1 1 1 1 1 1 1 1 1 1 1 1 1 1 1 1 1 1 1 1 1 1 1 1 1 1 1 1 1 1 1 1\n",
      " 1 1 1 1 1 1 1 1 1 1 1 1 1 1 1 1 1 1 1 1 1 1 0 0 2 0 0 0 0 0 0 0 0 0 0 0 1\n",
      " 0 0 0 0 0 0 0 0 0 2 0 0 0 0 0 0 0 0 0 0 0 1 0 0 0 0 0 0 0 0 0 0 0 0 0 0 0\n",
      " 0 0 0 0 0 0 0 2 0 0 1 0 0 0 0 0 0 0 0 2 2 2 2 2 2 2 2 2 2 2 2 2 2 2 2 2 2\n",
      " 2 2 2 2 2 2 2 2 2 2 2 2 2 2 2 2 2 2 2 2 2 2 2 2 2 2 2 2 2 2]\n"
     ]
    }
   ],
   "source": [
    "#Standardization\n",
    "from sklearn.preprocessing import StandardScaler\n",
    "scaler=StandardScaler()\n",
    "from sklearn.pipeline import make_pipeline\n",
    "pipe = make_pipeline(scaler, model_kmeans)\n",
    "pipe.fit(df)\n",
    "labels_sc = pipe.predict(df)\n",
    "print(labels_sc)"
   ]
  },
  {
   "cell_type": "code",
   "execution_count": 19,
   "id": "7bf9e49f",
   "metadata": {},
   "outputs": [
    {
     "data": {
      "text/plain": [
       "1277.928488844643"
      ]
     },
     "execution_count": 19,
     "metadata": {},
     "output_type": "execute_result"
    }
   ],
   "source": [
    "#checking inertia value\n",
    "model_kmeans.inertia_"
   ]
  },
  {
   "cell_type": "markdown",
   "id": "453036ae",
   "metadata": {},
   "source": [
    "##### Inertia has been reduced to optimal value 1277 by feature scaling"
   ]
  },
  {
   "cell_type": "code",
   "execution_count": 20,
   "id": "a491f359",
   "metadata": {},
   "outputs": [
    {
     "name": "stdout",
     "output_type": "stream",
     "text": [
      "[2 2 2 2 0 2 2 2 2 2 2 2 2 2 2 2 2 2 2 0 0 0 2 2 2 0 2 2 2 2 2 2 2 2 2 2 2\n",
      " 2 2 0 0 2 2 0 2 2 2 2 2 2 2 2 2 2 2 2 2 2 2 0 0 1 0 1 1 0 0 0 0 1 2 1 0 0\n",
      " 2 1 1 1 0 1 1 2 0 0 0 1 0 0 2 2 0 0 0 1 1 0 1 0 0 1 0 0 1 1 0 1 0 0 1 0 0\n",
      " 1 0 1 1 1 0 1 1 0 0 1 1 1 1 1 1 1 1 0 0 0 0 0 0 0 2 0 0 0 0 2 0 0 0 2 0 0\n",
      " 0 1 1 1 1 0 0 0 0 2 0 0 0 0 0 0 0 0 0 0 0 0 0 0 0 0 0 0 0 0]\n"
     ]
    }
   ],
   "source": [
    "#Normalization\n",
    "from sklearn.preprocessing import Normalizer\n",
    "norm=Normalizer()\n",
    "pipe1 = make_pipeline(norm, model_kmeans)\n",
    "pipe1.fit(df)\n",
    "labels_nr = pipe1.predict(df)\n",
    "print(labels_nr)"
   ]
  },
  {
   "cell_type": "code",
   "execution_count": 21,
   "id": "5a9a48a8",
   "metadata": {},
   "outputs": [
    {
     "data": {
      "text/plain": [
       "0.10306150549665624"
      ]
     },
     "execution_count": 21,
     "metadata": {},
     "output_type": "execute_result"
    }
   ],
   "source": [
    "#checking inertia value\n",
    "model_kmeans.inertia_"
   ]
  },
  {
   "cell_type": "markdown",
   "id": "b8ca344e",
   "metadata": {},
   "source": [
    "#####  Inertia value is reduced to 0.10 when normalized."
   ]
  },
  {
   "cell_type": "markdown",
   "id": "9bbccc38",
   "metadata": {},
   "source": [
    "### Reducing Dimensionality : Principal Component Analysis (PCA)"
   ]
  },
  {
   "cell_type": "code",
   "execution_count": 22,
   "id": "d6f87421",
   "metadata": {},
   "outputs": [],
   "source": [
    "#scaling the data\n",
    "from sklearn.preprocessing import StandardScaler\n",
    "scaler=StandardScaler()\n",
    "scaled_data = scaler.fit_transform(df)"
   ]
  },
  {
   "cell_type": "code",
   "execution_count": 23,
   "id": "4d240b75",
   "metadata": {},
   "outputs": [
    {
     "data": {
      "text/plain": [
       "(178, 2)"
      ]
     },
     "execution_count": 23,
     "metadata": {},
     "output_type": "execute_result"
    }
   ],
   "source": [
    "#PCA-scaled\n",
    "from sklearn.decomposition import PCA\n",
    "pca = PCA(n_components = 2)\n",
    "pca.fit(scaled_data)\n",
    "x_pca = pca.transform(scaled_data)\n",
    "x_pca.shape"
   ]
  },
  {
   "cell_type": "code",
   "execution_count": 24,
   "id": "059eff2e",
   "metadata": {},
   "outputs": [
    {
     "data": {
      "text/plain": [
       "Text(0, 0.5, 'Second Principal Component')"
      ]
     },
     "execution_count": 24,
     "metadata": {},
     "output_type": "execute_result"
    },
    {
     "data": {
      "image/png": "[encoded data removed]",
      "text/plain": [
       "<Figure size 576x432 with 1 Axes>"
      ]
     },
     "metadata": {
      "needs_background": "light"
     },
     "output_type": "display_data"
    }
   ],
   "source": [
    "#plotting the PCA components with Scaled data\n",
    "plt.figure(figsize =(8, 6))\n",
    "plt.scatter(x_pca[:, 0], x_pca[:, 1], c = labels, cmap ='plasma')\n",
    "plt.title('PCA with Feature Scaling')\n",
    "plt.xlabel('First Principal Component')\n",
    "plt.ylabel('Second Principal Component')"
   ]
  },
  {
   "cell_type": "code",
   "execution_count": 25,
   "id": "83c1fc8f",
   "metadata": {},
   "outputs": [],
   "source": [
    "#normalizing the data\n",
    "from sklearn.preprocessing import Normalizer\n",
    "norm=Normalizer()\n",
    "norm_data = norm.fit_transform(df)"
   ]
  },
  {
   "cell_type": "code",
   "execution_count": 26,
   "id": "f77993fb",
   "metadata": {},
   "outputs": [
    {
     "data": {
      "text/plain": [
       "(178, 2)"
      ]
     },
     "execution_count": 26,
     "metadata": {},
     "output_type": "execute_result"
    }
   ],
   "source": [
    "#PCA-Normalized\n",
    "from sklearn.decomposition import PCA\n",
    "pca = PCA(n_components = 2)\n",
    "pca.fit(norm_data)\n",
    "x_pca = pca.transform(norm_data)\n",
    "x_pca.shape"
   ]
  },
  {
   "cell_type": "code",
   "execution_count": 27,
   "id": "41de15ac",
   "metadata": {},
   "outputs": [
    {
     "data": {
      "text/plain": [
       "Text(0, 0.5, 'Second Principal Component')"
      ]
     },
     "execution_count": 27,
     "metadata": {},
     "output_type": "execute_result"
    },
    {
     "data": {
      "image/png": "[encoded data removed]",
      "text/plain": [
       "<Figure size 576x432 with 1 Axes>"
      ]
     },
     "metadata": {
      "needs_background": "light"
     },
     "output_type": "display_data"
    }
   ],
   "source": [
    "#plotting the PCA components with Normalized data\n",
    "plt.figure(figsize =(8, 6))\n",
    "plt.scatter(x_pca[:, 0], x_pca[:, 1], c = labels, cmap ='plasma')\n",
    "plt.title('PCA with Normalization')\n",
    "plt.xlabel('First Principal Component')\n",
    "plt.ylabel('Second Principal Component')"
   ]
  },
  {
   "cell_type": "markdown",
   "id": "d9ba6a0b",
   "metadata": {},
   "source": [
    "##### Normalized data is classified into 3 distinct clusters using PCA feature reduction. But we see overlapping of datapoints into different clusters. So better do not prefer Principal Component Analysis in this case as dimensionality reduction is not much helpful here."
   ]
  },
  {
   "cell_type": "code",
   "execution_count": 28,
   "id": "6a26eacd",
   "metadata": {},
   "outputs": [
    {
     "data": {
      "text/plain": [
       "array([[ 0.11967376,  0.02493389,  0.02287173,  0.2334577 ,  0.9475191 ,\n",
       "         0.02006888,  0.01730099,  0.00397612,  0.01438307,  0.02402529,\n",
       "         0.0098415 ,  0.02579363, -0.17313082],\n",
       "       [-0.25819916, -0.11280463, -0.06416612, -0.91265935,  0.2604945 ,\n",
       "        -0.02946121, -0.01570738, -0.01883443, -0.02177346, -0.09869587,\n",
       "        -0.00852837, -0.0504888 , -0.03715241]])"
      ]
     },
     "execution_count": 28,
     "metadata": {},
     "output_type": "execute_result"
    }
   ],
   "source": [
    "#displaying the PCA components\n",
    "pca.components_"
   ]
  },
  {
   "cell_type": "code",
   "execution_count": 29,
   "id": "8268e5a5",
   "metadata": {},
   "outputs": [
    {
     "data": {
      "text/plain": [
       "<AxesSubplot:title={'center':'Correlation of Features with Principal Components'}>"
      ]
     },
     "execution_count": 29,
     "metadata": {},
     "output_type": "execute_result"
    },
    {
     "data": {
      "image/png": "[encoded data removed]",
      "text/plain": [
       "<Figure size 864x432 with 2 Axes>"
      ]
     },
     "metadata": {
      "needs_background": "light"
     },
     "output_type": "display_data"
    }
   ],
   "source": [
    "#Heatmap\n",
    "map= pd.DataFrame(pca.components_,columns=df.columns)\n",
    "plt.figure(figsize=(12,6))\n",
    "plt.title('Correlation of Features with Principal Components')\n",
    "sns.heatmap(map)"
   ]
  },
  {
   "cell_type": "markdown",
   "id": "c5092550",
   "metadata": {},
   "source": [
    "##### This heatmap and the color bar basically represent the correlation between the various feature and the principal component itself."
   ]
  },
  {
   "cell_type": "markdown",
   "id": "e74189c7",
   "metadata": {},
   "source": [
    "### Hierarchical - Agglomerative Clustering"
   ]
  },
  {
   "cell_type": "code",
   "execution_count": 30,
   "id": "4c002554",
   "metadata": {},
   "outputs": [],
   "source": [
    "#Normalization of DataFrame\n",
    "norm = Normalizer()\n",
    "df = norm.fit_transform(df)\n",
    "df = pd.DataFrame(df)"
   ]
  },
  {
   "cell_type": "code",
   "execution_count": 31,
   "id": "4fac3f46",
   "metadata": {},
   "outputs": [
    {
     "data": {
      "image/png": "[encoded data removed]",
      "text/plain": [
       "<Figure size 720x576 with 1 Axes>"
      ]
     },
     "metadata": {
      "needs_background": "light"
     },
     "output_type": "display_data"
    }
   ],
   "source": [
    "#Dendrogram\n",
    "from scipy.cluster.hierarchy import dendrogram, linkage\n",
    "linked = linkage(df, method='ward')\n",
    "plt.figure(figsize=(10,8))\n",
    "plt.title('Dendrogram')\n",
    "dendrogram(linked, orientation='top', distance_sort='ascending', show_leaf_counts='True')\n",
    "plt.hlines(0.35,0,5000, colors='r', linestyle='dashed')\n",
    "plt.show()"
   ]
  },
  {
   "cell_type": "markdown",
   "id": "7b288c1d",
   "metadata": {},
   "source": [
    "##### Horizontal line cuts the dendrogram at 3 points. Therfore no. of clusters can be taken as 3"
   ]
  },
  {
   "cell_type": "code",
   "execution_count": 32,
   "id": "b94c9294",
   "metadata": {},
   "outputs": [
    {
     "data": {
      "text/plain": [
       "array([0, 2, 2, 2, 0, 2, 2, 2, 2, 2, 2, 2, 2, 2, 2, 2, 2, 2, 2, 0, 0, 0,\n",
       "       2, 2, 0, 0, 2, 2, 0, 2, 2, 2, 2, 2, 2, 2, 0, 2, 2, 0, 0, 2, 2, 0,\n",
       "       0, 2, 2, 2, 2, 2, 2, 2, 2, 2, 2, 2, 0, 2, 2, 0, 0, 1, 0, 1, 1, 0,\n",
       "       0, 0, 0, 1, 0, 1, 0, 0, 0, 1, 1, 1, 0, 1, 1, 0, 0, 0, 0, 1, 0, 0,\n",
       "       0, 0, 0, 0, 0, 1, 1, 0, 1, 0, 0, 1, 0, 0, 1, 1, 0, 1, 0, 0, 1, 0,\n",
       "       0, 1, 0, 1, 1, 1, 0, 1, 1, 0, 0, 1, 1, 1, 1, 1, 1, 1, 1, 0, 0, 0,\n",
       "       0, 0, 0, 0, 0, 0, 0, 0, 0, 0, 0, 0, 0, 0, 0, 0, 0, 0, 1, 1, 1, 0,\n",
       "       0, 0, 0, 0, 0, 0, 0, 0, 0, 0, 0, 0, 0, 0, 0, 0, 0, 0, 0, 0, 0, 0,\n",
       "       0, 0], dtype=int64)"
      ]
     },
     "execution_count": 32,
     "metadata": {},
     "output_type": "execute_result"
    }
   ],
   "source": [
    "#Agglomerative Clustering for 3 clusters\n",
    "from sklearn.cluster import AgglomerativeClustering\n",
    "cluster=AgglomerativeClustering(n_clusters=3, affinity='euclidean', linkage='ward')\n",
    "labels_agg=cluster.fit_predict(df)\n",
    "labels_agg"
   ]
  },
  {
   "cell_type": "code",
   "execution_count": 33,
   "id": "b8314025",
   "metadata": {},
   "outputs": [
    {
     "data": {
      "text/html": [
       "<div>\n",
       "<style scoped>\n",
       "    .dataframe tbody tr th:only-of-type {\n",
       "        vertical-align: middle;\n",
       "    }\n",
       "\n",
       "    .dataframe tbody tr th {\n",
       "        vertical-align: top;\n",
       "    }\n",
       "\n",
       "    .dataframe thead th {\n",
       "        text-align: right;\n",
       "    }\n",
       "</style>\n",
       "<table border=\"1\" class=\"dataframe\">\n",
       "  <thead>\n",
       "    <tr style=\"text-align: right;\">\n",
       "      <th></th>\n",
       "      <th>0</th>\n",
       "      <th>1</th>\n",
       "      <th>2</th>\n",
       "      <th>3</th>\n",
       "      <th>4</th>\n",
       "      <th>5</th>\n",
       "      <th>6</th>\n",
       "      <th>7</th>\n",
       "      <th>8</th>\n",
       "      <th>9</th>\n",
       "      <th>10</th>\n",
       "      <th>11</th>\n",
       "      <th>12</th>\n",
       "      <th>labels</th>\n",
       "    </tr>\n",
       "  </thead>\n",
       "  <tbody>\n",
       "    <tr>\n",
       "      <th>0</th>\n",
       "      <td>0.013264</td>\n",
       "      <td>0.001594</td>\n",
       "      <td>0.002265</td>\n",
       "      <td>0.014542</td>\n",
       "      <td>0.118383</td>\n",
       "      <td>0.002610</td>\n",
       "      <td>0.002852</td>\n",
       "      <td>0.000261</td>\n",
       "      <td>0.002135</td>\n",
       "      <td>0.005257</td>\n",
       "      <td>0.000969</td>\n",
       "      <td>0.003654</td>\n",
       "      <td>0.992738</td>\n",
       "      <td>0</td>\n",
       "    </tr>\n",
       "    <tr>\n",
       "      <th>1</th>\n",
       "      <td>0.012513</td>\n",
       "      <td>0.001687</td>\n",
       "      <td>0.002029</td>\n",
       "      <td>0.010617</td>\n",
       "      <td>0.094794</td>\n",
       "      <td>0.002512</td>\n",
       "      <td>0.002616</td>\n",
       "      <td>0.000246</td>\n",
       "      <td>0.001213</td>\n",
       "      <td>0.004152</td>\n",
       "      <td>0.000995</td>\n",
       "      <td>0.003223</td>\n",
       "      <td>0.995336</td>\n",
       "      <td>2</td>\n",
       "    </tr>\n",
       "    <tr>\n",
       "      <th>2</th>\n",
       "      <td>0.011063</td>\n",
       "      <td>0.001984</td>\n",
       "      <td>0.002245</td>\n",
       "      <td>0.015636</td>\n",
       "      <td>0.084906</td>\n",
       "      <td>0.002354</td>\n",
       "      <td>0.002724</td>\n",
       "      <td>0.000252</td>\n",
       "      <td>0.002362</td>\n",
       "      <td>0.004775</td>\n",
       "      <td>0.000866</td>\n",
       "      <td>0.002665</td>\n",
       "      <td>0.996176</td>\n",
       "      <td>2</td>\n",
       "    </tr>\n",
       "    <tr>\n",
       "      <th>3</th>\n",
       "      <td>0.009680</td>\n",
       "      <td>0.001314</td>\n",
       "      <td>0.001684</td>\n",
       "      <td>0.011317</td>\n",
       "      <td>0.076119</td>\n",
       "      <td>0.002593</td>\n",
       "      <td>0.002351</td>\n",
       "      <td>0.000162</td>\n",
       "      <td>0.001468</td>\n",
       "      <td>0.005254</td>\n",
       "      <td>0.000579</td>\n",
       "      <td>0.002324</td>\n",
       "      <td>0.996961</td>\n",
       "      <td>2</td>\n",
       "    </tr>\n",
       "    <tr>\n",
       "      <th>4</th>\n",
       "      <td>0.017775</td>\n",
       "      <td>0.003477</td>\n",
       "      <td>0.003853</td>\n",
       "      <td>0.028193</td>\n",
       "      <td>0.158418</td>\n",
       "      <td>0.003759</td>\n",
       "      <td>0.003611</td>\n",
       "      <td>0.000524</td>\n",
       "      <td>0.002443</td>\n",
       "      <td>0.005800</td>\n",
       "      <td>0.001396</td>\n",
       "      <td>0.003934</td>\n",
       "      <td>0.986753</td>\n",
       "      <td>0</td>\n",
       "    </tr>\n",
       "  </tbody>\n",
       "</table>\n",
       "</div>"
      ],
      "text/plain": [
       "          0         1         2         3         4         5         6  \\\n",
       "0  0.013264  0.001594  0.002265  0.014542  0.118383  0.002610  0.002852   \n",
       "1  0.012513  0.001687  0.002029  0.010617  0.094794  0.002512  0.002616   \n",
       "2  0.011063  0.001984  0.002245  0.015636  0.084906  0.002354  0.002724   \n",
       "3  0.009680  0.001314  0.001684  0.011317  0.076119  0.002593  0.002351   \n",
       "4  0.017775  0.003477  0.003853  0.028193  0.158418  0.003759  0.003611   \n",
       "\n",
       "          7         8         9        10        11        12  labels  \n",
       "0  0.000261  0.002135  0.005257  0.000969  0.003654  0.992738       0  \n",
       "1  0.000246  0.001213  0.004152  0.000995  0.003223  0.995336       2  \n",
       "2  0.000252  0.002362  0.004775  0.000866  0.002665  0.996176       2  \n",
       "3  0.000162  0.001468  0.005254  0.000579  0.002324  0.996961       2  \n",
       "4  0.000524  0.002443  0.005800  0.001396  0.003934  0.986753       0  "
      ]
     },
     "execution_count": 33,
     "metadata": {},
     "output_type": "execute_result"
    }
   ],
   "source": [
    "#Adding labels_agg to DataFrame\n",
    "df_agg = df.copy(deep=True)\n",
    "df_agg['labels'] = labels_agg\n",
    "df_agg.head()"
   ]
  },
  {
   "cell_type": "code",
   "execution_count": 34,
   "id": "ddeb049c",
   "metadata": {},
   "outputs": [
    {
     "name": "stderr",
     "output_type": "stream",
     "text": [
      "No handles with labels found to put in legend.\n"
     ]
    },
    {
     "data": {
      "image/png": "[encoded data removed]",
      "text/plain": [
       "<Figure size 432x288 with 1 Axes>"
      ]
     },
     "metadata": {
      "needs_background": "light"
     },
     "output_type": "display_data"
    }
   ],
   "source": [
    "#checking the variation of feature 'proline' with each cluster\n",
    "plt.scatter(df_agg['labels'], df_agg.iloc[:, 12], color = 'grey')\n",
    "plt.title('Proline Cluster Classification - Agglomerative')\n",
    "plt.xlabel('Agglomerative Cluster')\n",
    "plt.ylabel('Proline')\n",
    "plt.legend()\n",
    "plt.show();"
   ]
  },
  {
   "cell_type": "code",
   "execution_count": 35,
   "id": "4838e24c",
   "metadata": {},
   "outputs": [
    {
     "data": {
      "text/plain": [
       "<matplotlib.collections.PathCollection at 0x1d5828a6700>"
      ]
     },
     "execution_count": 35,
     "metadata": {},
     "output_type": "execute_result"
    },
    {
     "data": {
      "image/png": "[encoded data removed]",
      "text/plain": [
       "<Figure size 432x288 with 1 Axes>"
      ]
     },
     "metadata": {
      "needs_background": "light"
     },
     "output_type": "display_data"
    }
   ],
   "source": [
    "#scatterplot of Proline Vs Alcohol\n",
    "prg = df_agg.iloc[:, 12]\n",
    "alcg = df_agg.iloc[:, 0]\n",
    "plt.title('Proline vs Alcohol')\n",
    "plt.xlabel('Proline')\n",
    "plt.ylabel('Alcohol')\n",
    "plt.scatter(prg, alcg, c=labels)"
   ]
  },
  {
   "cell_type": "markdown",
   "id": "fc0bccd9",
   "metadata": {},
   "source": [
    "##### In Agglomerative clustering, feature clustering not well defined as in K-Means method"
   ]
  },
  {
   "cell_type": "markdown",
   "id": "c5c95664",
   "metadata": {},
   "source": [
    "### 3. Find the optimum number of clusters in each model and create the model with the optimum number of clusters."
   ]
  },
  {
   "cell_type": "markdown",
   "id": "1ca6e62c",
   "metadata": {},
   "source": [
    "##### By comparing different clustering methods, K-Means is more efficient here in defining clusters. So, we select K-Means Clustering Method and Optimum no of Clusters = 3. \n",
    "* We have created K-Means model with 3 clusters earlier in this code and passed to DataFrame 'data_df'"
   ]
  },
  {
   "cell_type": "code",
   "execution_count": 36,
   "id": "52f8f422",
   "metadata": {},
   "outputs": [],
   "source": [
    "#passing labels after Normalization, labels_nr to DataFrame\n",
    "data_df['labels'] = labels_nr"
   ]
  },
  {
   "cell_type": "code",
   "execution_count": 37,
   "id": "d86850ec",
   "metadata": {},
   "outputs": [
    {
     "data": {
      "text/html": [
       "<div>\n",
       "<style scoped>\n",
       "    .dataframe tbody tr th:only-of-type {\n",
       "        vertical-align: middle;\n",
       "    }\n",
       "\n",
       "    .dataframe tbody tr th {\n",
       "        vertical-align: top;\n",
       "    }\n",
       "\n",
       "    .dataframe thead tr th {\n",
       "        text-align: left;\n",
       "    }\n",
       "</style>\n",
       "<table border=\"1\" class=\"dataframe\">\n",
       "  <thead>\n",
       "    <tr>\n",
       "      <th></th>\n",
       "      <th>K-Means</th>\n",
       "      <th>Alcohol</th>\n",
       "      <th>Malic_Acid</th>\n",
       "      <th>Ash</th>\n",
       "      <th>Ash_Alcanity</th>\n",
       "      <th>Magnesium</th>\n",
       "      <th>Total_Phenols</th>\n",
       "      <th>Flavanoids</th>\n",
       "      <th>Nonflavanoid_Phenols</th>\n",
       "      <th>Proanthocyanins</th>\n",
       "      <th>Color_Intensity</th>\n",
       "      <th>Hue</th>\n",
       "      <th>OD280</th>\n",
       "      <th>Proline</th>\n",
       "    </tr>\n",
       "  </thead>\n",
       "  <tbody>\n",
       "    <tr>\n",
       "      <th>0</th>\n",
       "      <td>0</td>\n",
       "      <td>12.876173</td>\n",
       "      <td>2.658889</td>\n",
       "      <td>2.351852</td>\n",
       "      <td>20.235802</td>\n",
       "      <td>98.432099</td>\n",
       "      <td>1.995062</td>\n",
       "      <td>1.455185</td>\n",
       "      <td>0.408889</td>\n",
       "      <td>1.436049</td>\n",
       "      <td>5.458519</td>\n",
       "      <td>0.874444</td>\n",
       "      <td>2.277654</td>\n",
       "      <td>629.246914</td>\n",
       "    </tr>\n",
       "    <tr>\n",
       "      <th>1</th>\n",
       "      <td>1</td>\n",
       "      <td>12.330541</td>\n",
       "      <td>2.241622</td>\n",
       "      <td>2.308108</td>\n",
       "      <td>20.921622</td>\n",
       "      <td>97.837838</td>\n",
       "      <td>2.288649</td>\n",
       "      <td>2.141892</td>\n",
       "      <td>0.349730</td>\n",
       "      <td>1.591081</td>\n",
       "      <td>3.651892</td>\n",
       "      <td>1.000000</td>\n",
       "      <td>2.689459</td>\n",
       "      <td>415.162162</td>\n",
       "    </tr>\n",
       "    <tr>\n",
       "      <th>2</th>\n",
       "      <td>2</td>\n",
       "      <td>13.581833</td>\n",
       "      <td>1.959333</td>\n",
       "      <td>2.422333</td>\n",
       "      <td>17.615000</td>\n",
       "      <td>102.683333</td>\n",
       "      <td>2.704167</td>\n",
       "      <td>2.734833</td>\n",
       "      <td>0.305833</td>\n",
       "      <td>1.799833</td>\n",
       "      <td>5.384667</td>\n",
       "      <td>1.043267</td>\n",
       "      <td>3.014667</td>\n",
       "      <td>1110.283333</td>\n",
       "    </tr>\n",
       "  </tbody>\n",
       "</table>\n",
       "</div>"
      ],
      "text/plain": [
       "  K-Means    Alcohol Malic_Acid       Ash Ash_Alcanity   Magnesium  \\\n",
       "0       0  12.876173   2.658889  2.351852    20.235802   98.432099   \n",
       "1       1  12.330541   2.241622  2.308108    20.921622   97.837838   \n",
       "2       2  13.581833   1.959333  2.422333    17.615000  102.683333   \n",
       "\n",
       "  Total_Phenols Flavanoids Nonflavanoid_Phenols Proanthocyanins  \\\n",
       "0      1.995062   1.455185             0.408889        1.436049   \n",
       "1      2.288649   2.141892             0.349730        1.591081   \n",
       "2      2.704167   2.734833             0.305833        1.799833   \n",
       "\n",
       "  Color_Intensity       Hue     OD280      Proline  \n",
       "0        5.458519  0.874444  2.277654   629.246914  \n",
       "1        3.651892  1.000000  2.689459   415.162162  \n",
       "2        5.384667  1.043267  3.014667  1110.283333  "
      ]
     },
     "execution_count": 37,
     "metadata": {},
     "output_type": "execute_result"
    }
   ],
   "source": [
    "#Grouping feature-mean according to each cluster in df1\n",
    "df1 = data_df.groupby('labels', as_index=False).aggregate({'Alcohol': [np.mean],\n",
    "    'Malic_Acid': [np.mean],\n",
    "    'Ash': [np.mean],\n",
    "    'Ash_Alcanity': [np.mean],\n",
    "    'Magnesium': [np.mean],\n",
    "    'Total_Phenols': [np.mean],\n",
    "    'Flavanoids': [np.mean],\n",
    "    'Nonflavanoid_Phenols': [np.mean],\n",
    "    'Proanthocyanins': [np.mean],\n",
    "    'Color_Intensity': [np.mean],\n",
    "    'Hue': [np.mean],\n",
    "    'OD280': [np.mean],\n",
    "    'Proline':[np.mean]\n",
    "})\n",
    "df1.columns = [['K-Means','Alcohol', 'Malic_Acid', 'Ash', 'Ash_Alcanity', 'Magnesium',\n",
    "                 'Total_Phenols', 'Flavanoids', 'Nonflavanoid_Phenols',\n",
    "                 'Proanthocyanins', 'Color_Intensity', 'Hue', 'OD280', 'Proline']]\n",
    "df1"
   ]
  },
  {
   "cell_type": "markdown",
   "id": "ad7db1f7",
   "metadata": {},
   "source": [
    "##### Mean values of different features corresponding to their clusters is calculated. Proline can be assumed to be a prominent feature in this dataset."
   ]
  },
  {
   "cell_type": "code",
   "execution_count": 38,
   "id": "21ff5bc6",
   "metadata": {
    "scrolled": true
   },
   "outputs": [
    {
     "data": {
      "text/plain": [
       "<AxesSubplot:title={'center':'Cluster level vs Proline'}, xlabel='labels', ylabel='Proline'>"
      ]
     },
     "execution_count": 38,
     "metadata": {},
     "output_type": "execute_result"
    },
    {
     "data": {
      "image/png": "[encoded data removed]",
      "text/plain": [
       "<Figure size 576x432 with 1 Axes>"
      ]
     },
     "metadata": {
      "needs_background": "light"
     },
     "output_type": "display_data"
    }
   ],
   "source": [
    "# Visualising the distribution of the cluster labels for column proline from K-Means Clustering\n",
    "\n",
    "plt.figure(figsize=(8,6))\n",
    "plt.title('Cluster level vs Proline')\n",
    "sns.boxplot(x='labels', y='Proline', data=data_df)"
   ]
  },
  {
   "cell_type": "markdown",
   "id": "344314c4",
   "metadata": {},
   "source": [
    "##### Boxplot shows clusterification of feature Proline to 3 categories with distinct Median and range limits. Outlier handling may be ignored from preprocessing as this a small dataset with few features.\n",
    "    Category 1 - Low Quality Wine Cultivar - Low Median Value\n",
    "    Category 2 - Medium Quality Wine Cultivar\n",
    "    Category 3 - High Quality Wine Cultivar - High median Value\n",
    "    Note:- Label nos(0,1,2) for each category varies each time we run the code."
   ]
  },
  {
   "cell_type": "markdown",
   "id": "060afa33",
   "metadata": {},
   "source": [
    "### Training the Model:-\n",
    "\n",
    "    We shall use the following models:\n",
    "\n",
    "    1.Random Forest Classifier\n",
    "    2.Support Vector Machines"
   ]
  },
  {
   "cell_type": "code",
   "execution_count": 39,
   "id": "22cfe31d",
   "metadata": {},
   "outputs": [],
   "source": [
    "from sklearn.ensemble import RandomForestClassifier\n",
    "from sklearn.svm import SVC\n",
    "from sklearn.metrics import confusion_matrix, classification_report, accuracy_score\n",
    "from sklearn.preprocessing import StandardScaler, LabelEncoder\n",
    "from sklearn.model_selection import train_test_split, GridSearchCV, cross_val_score"
   ]
  },
  {
   "cell_type": "code",
   "execution_count": 40,
   "id": "d3a935ed",
   "metadata": {},
   "outputs": [],
   "source": [
    "#Adding labels_nr column of K-Means Clustering to DataFrame\n",
    "data1 = data.copy(deep=True)\n",
    "data1[\"labels\"] = labels_nr"
   ]
  },
  {
   "cell_type": "code",
   "execution_count": 41,
   "id": "b6d04413",
   "metadata": {},
   "outputs": [
    {
     "data": {
      "text/html": [
       "<div>\n",
       "<style scoped>\n",
       "    .dataframe tbody tr th:only-of-type {\n",
       "        vertical-align: middle;\n",
       "    }\n",
       "\n",
       "    .dataframe tbody tr th {\n",
       "        vertical-align: top;\n",
       "    }\n",
       "\n",
       "    .dataframe thead th {\n",
       "        text-align: right;\n",
       "    }\n",
       "</style>\n",
       "<table border=\"1\" class=\"dataframe\">\n",
       "  <thead>\n",
       "    <tr style=\"text-align: right;\">\n",
       "      <th></th>\n",
       "      <th>Alcohol</th>\n",
       "      <th>Malic_Acid</th>\n",
       "      <th>Ash</th>\n",
       "      <th>Ash_Alcanity</th>\n",
       "      <th>Magnesium</th>\n",
       "      <th>Total_Phenols</th>\n",
       "      <th>Flavanoids</th>\n",
       "      <th>Nonflavanoid_Phenols</th>\n",
       "      <th>Proanthocyanins</th>\n",
       "      <th>Color_Intensity</th>\n",
       "      <th>Hue</th>\n",
       "      <th>OD280</th>\n",
       "      <th>Proline</th>\n",
       "      <th>labels</th>\n",
       "    </tr>\n",
       "  </thead>\n",
       "  <tbody>\n",
       "    <tr>\n",
       "      <th>0</th>\n",
       "      <td>14.23</td>\n",
       "      <td>1.71</td>\n",
       "      <td>2.43</td>\n",
       "      <td>15.6</td>\n",
       "      <td>127</td>\n",
       "      <td>2.80</td>\n",
       "      <td>3.06</td>\n",
       "      <td>0.28</td>\n",
       "      <td>2.29</td>\n",
       "      <td>5.64</td>\n",
       "      <td>1.04</td>\n",
       "      <td>3.92</td>\n",
       "      <td>1065</td>\n",
       "      <td>2</td>\n",
       "    </tr>\n",
       "    <tr>\n",
       "      <th>1</th>\n",
       "      <td>13.20</td>\n",
       "      <td>1.78</td>\n",
       "      <td>2.14</td>\n",
       "      <td>11.2</td>\n",
       "      <td>100</td>\n",
       "      <td>2.65</td>\n",
       "      <td>2.76</td>\n",
       "      <td>0.26</td>\n",
       "      <td>1.28</td>\n",
       "      <td>4.38</td>\n",
       "      <td>1.05</td>\n",
       "      <td>3.40</td>\n",
       "      <td>1050</td>\n",
       "      <td>2</td>\n",
       "    </tr>\n",
       "    <tr>\n",
       "      <th>2</th>\n",
       "      <td>13.16</td>\n",
       "      <td>2.36</td>\n",
       "      <td>2.67</td>\n",
       "      <td>18.6</td>\n",
       "      <td>101</td>\n",
       "      <td>2.80</td>\n",
       "      <td>3.24</td>\n",
       "      <td>0.30</td>\n",
       "      <td>2.81</td>\n",
       "      <td>5.68</td>\n",
       "      <td>1.03</td>\n",
       "      <td>3.17</td>\n",
       "      <td>1185</td>\n",
       "      <td>2</td>\n",
       "    </tr>\n",
       "    <tr>\n",
       "      <th>3</th>\n",
       "      <td>14.37</td>\n",
       "      <td>1.95</td>\n",
       "      <td>2.50</td>\n",
       "      <td>16.8</td>\n",
       "      <td>113</td>\n",
       "      <td>3.85</td>\n",
       "      <td>3.49</td>\n",
       "      <td>0.24</td>\n",
       "      <td>2.18</td>\n",
       "      <td>7.80</td>\n",
       "      <td>0.86</td>\n",
       "      <td>3.45</td>\n",
       "      <td>1480</td>\n",
       "      <td>2</td>\n",
       "    </tr>\n",
       "    <tr>\n",
       "      <th>4</th>\n",
       "      <td>13.24</td>\n",
       "      <td>2.59</td>\n",
       "      <td>2.87</td>\n",
       "      <td>21.0</td>\n",
       "      <td>118</td>\n",
       "      <td>2.80</td>\n",
       "      <td>2.69</td>\n",
       "      <td>0.39</td>\n",
       "      <td>1.82</td>\n",
       "      <td>4.32</td>\n",
       "      <td>1.04</td>\n",
       "      <td>2.93</td>\n",
       "      <td>735</td>\n",
       "      <td>0</td>\n",
       "    </tr>\n",
       "  </tbody>\n",
       "</table>\n",
       "</div>"
      ],
      "text/plain": [
       "   Alcohol  Malic_Acid   Ash  Ash_Alcanity  Magnesium  Total_Phenols  \\\n",
       "0    14.23        1.71  2.43          15.6        127           2.80   \n",
       "1    13.20        1.78  2.14          11.2        100           2.65   \n",
       "2    13.16        2.36  2.67          18.6        101           2.80   \n",
       "3    14.37        1.95  2.50          16.8        113           3.85   \n",
       "4    13.24        2.59  2.87          21.0        118           2.80   \n",
       "\n",
       "   Flavanoids  Nonflavanoid_Phenols  Proanthocyanins  Color_Intensity   Hue  \\\n",
       "0        3.06                  0.28             2.29             5.64  1.04   \n",
       "1        2.76                  0.26             1.28             4.38  1.05   \n",
       "2        3.24                  0.30             2.81             5.68  1.03   \n",
       "3        3.49                  0.24             2.18             7.80  0.86   \n",
       "4        2.69                  0.39             1.82             4.32  1.04   \n",
       "\n",
       "   OD280  Proline  labels  \n",
       "0   3.92     1065       2  \n",
       "1   3.40     1050       2  \n",
       "2   3.17     1185       2  \n",
       "3   3.45     1480       2  \n",
       "4   2.93      735       0  "
      ]
     },
     "execution_count": 41,
     "metadata": {},
     "output_type": "execute_result"
    }
   ],
   "source": [
    "data1.head()"
   ]
  },
  {
   "cell_type": "code",
   "execution_count": 42,
   "id": "af4ece7b",
   "metadata": {},
   "outputs": [
    {
     "data": {
      "text/plain": [
       "(178, 14)"
      ]
     },
     "execution_count": 42,
     "metadata": {},
     "output_type": "execute_result"
    }
   ],
   "source": [
    "data1.shape"
   ]
  },
  {
   "cell_type": "code",
   "execution_count": 43,
   "id": "18ec20b1",
   "metadata": {},
   "outputs": [],
   "source": [
    "x= data1.drop('labels', axis=1)\n",
    "y= pd.DataFrame(data1['labels'].astype('float64'))"
   ]
  },
  {
   "cell_type": "code",
   "execution_count": 44,
   "id": "0c8547a1",
   "metadata": {},
   "outputs": [
    {
     "data": {
      "text/plain": [
       "(178, 13)"
      ]
     },
     "execution_count": 44,
     "metadata": {},
     "output_type": "execute_result"
    }
   ],
   "source": [
    "x.shape"
   ]
  },
  {
   "cell_type": "code",
   "execution_count": 45,
   "id": "e85463b1",
   "metadata": {},
   "outputs": [
    {
     "data": {
      "text/plain": [
       "(178, 1)"
      ]
     },
     "execution_count": 45,
     "metadata": {},
     "output_type": "execute_result"
    }
   ],
   "source": [
    "y.shape"
   ]
  },
  {
   "cell_type": "code",
   "execution_count": 46,
   "id": "c004a582",
   "metadata": {},
   "outputs": [],
   "source": [
    "#Normalization of feature columns\n",
    "norm = Normalizer()\n",
    "df = norm.fit_transform(x)\n",
    "df = pd.DataFrame(df)"
   ]
  },
  {
   "cell_type": "code",
   "execution_count": 47,
   "id": "9efc1960",
   "metadata": {},
   "outputs": [],
   "source": [
    "#splitting to train & test set\n",
    "x_train, x_test, y_train, y_test = train_test_split(x, y, test_size=0.2, random_state=10)"
   ]
  },
  {
   "cell_type": "markdown",
   "id": "b6a94653",
   "metadata": {},
   "source": [
    "#### 1. Random Forest Classifier Model"
   ]
  },
  {
   "cell_type": "code",
   "execution_count": 48,
   "id": "364e65d9",
   "metadata": {},
   "outputs": [
    {
     "data": {
      "text/plain": [
       "RandomForestClassifier(max_depth=5, min_samples_split=5, random_state=0)"
      ]
     },
     "execution_count": 48,
     "metadata": {},
     "output_type": "execute_result"
    }
   ],
   "source": [
    "#RFC Algorithm\n",
    "rf = RandomForestClassifier(n_estimators = 100, random_state = 0, min_samples_split=5, criterion='gini', max_depth=5)\n",
    "rf.fit(x_train, y_train)"
   ]
  },
  {
   "cell_type": "code",
   "execution_count": 49,
   "id": "245b604c",
   "metadata": {},
   "outputs": [
    {
     "name": "stdout",
     "output_type": "stream",
     "text": [
      "Train Accuracy  :  0.9647887323943662\n",
      "Test Accuracy  :  0.8055555555555556\n"
     ]
    }
   ],
   "source": [
    "#test set prediction accuracy\n",
    "y_pred_test = rf.predict(x_test)\n",
    "\n",
    "accuracy_test=accuracy_score(y_test, y_pred_test)\n",
    "\n",
    "#train set accuracy\n",
    "y_pred_train = rf.predict(x_train)\n",
    "\n",
    "accuracy_train=accuracy_score(y_train, y_pred_train)\n",
    "\n",
    "print(\"Train Accuracy  : \",accuracy_train)\n",
    "print(\"Test Accuracy  : \",accuracy_test)"
   ]
  },
  {
   "cell_type": "code",
   "execution_count": 50,
   "id": "69c58e79",
   "metadata": {},
   "outputs": [],
   "source": [
    "#The accuracies for training set is 96% and test set is 80%, which suggests no considerable overfitting in our model."
   ]
  },
  {
   "cell_type": "code",
   "execution_count": 51,
   "id": "b4ba42de",
   "metadata": {},
   "outputs": [
    {
     "name": "stdout",
     "output_type": "stream",
     "text": [
      "Classification Report\n",
      "              precision    recall  f1-score   support\n",
      "\n",
      "         0.0       0.81      0.85      0.83        20\n",
      "         1.0       0.83      0.71      0.77         7\n",
      "         2.0       0.78      0.78      0.78         9\n",
      "\n",
      "    accuracy                           0.81        36\n",
      "   macro avg       0.81      0.78      0.79        36\n",
      "weighted avg       0.81      0.81      0.80        36\n",
      "\n"
     ]
    }
   ],
   "source": [
    "#classification report\n",
    "print('Classification Report')\n",
    "print(classification_report(y_test, y_pred_test))"
   ]
  },
  {
   "cell_type": "code",
   "execution_count": 52,
   "id": "80dba091",
   "metadata": {},
   "outputs": [
    {
     "data": {
      "text/plain": [
       "0.8380952380952381"
      ]
     },
     "execution_count": 52,
     "metadata": {},
     "output_type": "execute_result"
    }
   ],
   "source": [
    "#Now lets try to do some evaluation for random forest model using cross validation.\n",
    "rfc_val = cross_val_score(estimator = rf, X = x_train, y = y_train, cv = 10)\n",
    "rfc_val.mean()"
   ]
  },
  {
   "cell_type": "markdown",
   "id": "97b0e416",
   "metadata": {},
   "source": [
    "##### Overall accuracy of RFC > 80%. Model prediction is good."
   ]
  },
  {
   "cell_type": "code",
   "execution_count": 53,
   "id": "8c935f1c",
   "metadata": {},
   "outputs": [
    {
     "name": "stdout",
     "output_type": "stream",
     "text": [
      "Feature: 0, Score: 0.09036\n",
      "Feature: 1, Score: 0.02532\n",
      "Feature: 2, Score: 0.01955\n",
      "Feature: 3, Score: 0.05957\n",
      "Feature: 4, Score: 0.04106\n",
      "Feature: 5, Score: 0.06496\n",
      "Feature: 6, Score: 0.12516\n",
      "Feature: 7, Score: 0.04154\n",
      "Feature: 8, Score: 0.03026\n",
      "Feature: 9, Score: 0.07184\n",
      "Feature: 10, Score: 0.03423\n",
      "Feature: 11, Score: 0.05207\n",
      "Feature: 12, Score: 0.34409\n"
     ]
    }
   ],
   "source": [
    "#get feature importance\n",
    "fea_imp = rf.feature_importances_\n",
    "\n",
    "#summarize feature importance\n",
    "for i,j in enumerate(fea_imp):\n",
    "    print('Feature: %0d, Score: %.5f' % (i,j))"
   ]
  },
  {
   "cell_type": "code",
   "execution_count": 54,
   "id": "8e885e20",
   "metadata": {},
   "outputs": [
    {
     "data": {
      "image/png": "[encoded data removed]",
      "text/plain": [
       "<Figure size 432x288 with 1 Axes>"
      ]
     },
     "metadata": {
      "needs_background": "light"
     },
     "output_type": "display_data"
    }
   ],
   "source": [
    "#plot graph of feature importance\n",
    "\n",
    "feature_imp = pd.Series(rf.feature_importances_, index=x.columns)\n",
    "feature_imp.nlargest(10).plot(kind='barh')\n",
    "plt.ylabel('Index of Features')\n",
    "plt.xlabel('Feature Importance Value')\n",
    "plt.title('Feature Importance - Top 10 features')\n",
    "plt.show()"
   ]
  },
  {
   "cell_type": "markdown",
   "id": "b3dd8ddc",
   "metadata": {},
   "source": [
    "#### Insights:-\n",
    "* Proline is found in higher concentrations in wine.\n",
    "* Proline, alcohol & flavanoids are closely related to the flavor, taste and functional activity of wine."
   ]
  },
  {
   "cell_type": "markdown",
   "id": "f35fd90b",
   "metadata": {},
   "source": [
    "#### 2. Support Vector Machines Model"
   ]
  },
  {
   "cell_type": "code",
   "execution_count": 55,
   "id": "709046b5",
   "metadata": {},
   "outputs": [
    {
     "name": "stdout",
     "output_type": "stream",
     "text": [
      "Classification Report: \n",
      "              precision    recall  f1-score   support\n",
      "\n",
      "         0.0       0.90      0.95      0.93        20\n",
      "         1.0       0.86      0.86      0.86         7\n",
      "         2.0       1.00      0.89      0.94         9\n",
      "\n",
      "    accuracy                           0.92        36\n",
      "   macro avg       0.92      0.90      0.91        36\n",
      "weighted avg       0.92      0.92      0.92        36\n",
      "\n"
     ]
    }
   ],
   "source": [
    "#svc algorithm\n",
    "svc = SVC()\n",
    "svc.fit(x_train, y_train)\n",
    "y_pred = svc.predict(x_test)\n",
    "\n",
    "#Evaluate predictions\n",
    "print('Classification Report: ')\n",
    "print(classification_report(y_test, y_pred))"
   ]
  },
  {
   "cell_type": "markdown",
   "id": "97a0bf2f",
   "metadata": {},
   "source": [
    "##### Accuracy of SVM for 3 clusters are more than 80%. SVM Model prediction is good."
   ]
  },
  {
   "cell_type": "code",
   "execution_count": 56,
   "id": "6a80ba5b",
   "metadata": {},
   "outputs": [],
   "source": [
    "#Finding best parameters for our SVC model\n",
    "params = {\n",
    "    'C': [0.1,0.8,0.9,1,1.1,1.2,1.3,1.4],\n",
    "    'kernel':['linear', 'rbf'],\n",
    "    'gamma' :[0.1,0.8,0.9,1,1.1,1.2,1.3,1.4]\n",
    "}\n",
    "grid_svc = GridSearchCV(svc, param_grid=params, scoring='accuracy', cv=10)"
   ]
  },
  {
   "cell_type": "code",
   "execution_count": 57,
   "id": "3b6d750d",
   "metadata": {},
   "outputs": [
    {
     "data": {
      "text/plain": [
       "GridSearchCV(cv=10, estimator=SVC(),\n",
       "             param_grid={'C': [0.1, 0.8, 0.9, 1, 1.1, 1.2, 1.3, 1.4],\n",
       "                         'gamma': [0.1, 0.8, 0.9, 1, 1.1, 1.2, 1.3, 1.4],\n",
       "                         'kernel': ['linear', 'rbf']},\n",
       "             scoring='accuracy')"
      ]
     },
     "execution_count": 57,
     "metadata": {},
     "output_type": "execute_result"
    }
   ],
   "source": [
    "#Fitting data to GridSearchCV\n",
    "grid_svc.fit(x_train, y_train)"
   ]
  },
  {
   "cell_type": "code",
   "execution_count": 58,
   "id": "b7b709d4",
   "metadata": {},
   "outputs": [
    {
     "data": {
      "text/plain": [
       "{'C': 0.1, 'gamma': 0.1, 'kernel': 'linear'}"
      ]
     },
     "execution_count": 58,
     "metadata": {},
     "output_type": "execute_result"
    }
   ],
   "source": [
    "#Best parameters for our svc model\n",
    "grid_svc.best_params_"
   ]
  },
  {
   "cell_type": "code",
   "execution_count": 59,
   "id": "f89a7ff9",
   "metadata": {},
   "outputs": [
    {
     "name": "stdout",
     "output_type": "stream",
     "text": [
      "Classification Report: \n",
      "              precision    recall  f1-score   support\n",
      "\n",
      "         0.0       1.00      1.00      1.00        20\n",
      "         1.0       1.00      1.00      1.00         7\n",
      "         2.0       1.00      1.00      1.00         9\n",
      "\n",
      "    accuracy                           1.00        36\n",
      "   macro avg       1.00      1.00      1.00        36\n",
      "weighted avg       1.00      1.00      1.00        36\n",
      "\n"
     ]
    }
   ],
   "source": [
    "#Let's run our SVC again with the best parameters\n",
    "svc2 = SVC(C=0.1, gamma=0.1, kernel='linear')\n",
    "svc2.fit(x_train, y_train)\n",
    "y_pred_svc = svc2.predict(x_test)\n",
    "\n",
    "#Evaluate predictions\n",
    "print('Classification Report: ')\n",
    "print(classification_report(y_test, y_pred_svc))"
   ]
  },
  {
   "cell_type": "markdown",
   "id": "d36821c1",
   "metadata": {},
   "source": [
    "#####  Accuracy of SVM for all 3 clusters after fitting best parameters is more than 95%. SVM Model prediction is excellent."
   ]
  },
  {
   "cell_type": "markdown",
   "id": "c5bcfc86",
   "metadata": {},
   "source": [
    "### Conclusion\n",
    "* Classification Report shows that SVC surpasses RFC model's performance with F1 score, accuracy & precision.  \n",
    "* By comparing different clustering methods, K-Means is more efficient here in defining clusters."
   ]
  }
 ],
 "metadata": {
  "kernelspec": {
   "display_name": "Python 3",
   "language": "python",
   "name": "python3"
  },
  "language_info": {
   "codemirror_mode": {
    "name": "ipython",
    "version": 3
   },
   "file_extension": ".py",
   "mimetype": "text/x-python",
   "name": "python",
   "nbconvert_exporter": "python",
   "pygments_lexer": "ipython3",
   "version": "3.8.8"
  }
 },
 "nbformat": 4,
 "nbformat_minor": 5
}
